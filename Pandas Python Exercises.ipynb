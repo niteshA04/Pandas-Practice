{
 "cells": [
  {
   "cell_type": "markdown",
   "id": "bdfab8f1",
   "metadata": {},
   "source": [
    "# Import Pandas"
   ]
  },
  {
   "cell_type": "code",
   "execution_count": 1,
   "id": "02591d16",
   "metadata": {},
   "outputs": [],
   "source": [
    "import numpy as  np\n",
    "import pandas as pd"
   ]
  },
  {
   "cell_type": "markdown",
   "id": "376e4a5e",
   "metadata": {},
   "source": [
    "# Creating Data Set"
   ]
  },
  {
   "cell_type": "code",
   "execution_count": 2,
   "id": "b1862eed",
   "metadata": {},
   "outputs": [],
   "source": [
    "dict1 = {\n",
    "    'name':['Python', 'Java', 'C', 'C++'],\n",
    "    'marks':[101, 23, 35, 76],\n",
    "    'city':['Mumbai', 'Goa', 'UP', 'JK']\n",
    "}"
   ]
  },
  {
   "cell_type": "markdown",
   "id": "784a4b24",
   "metadata": {},
   "source": [
    "# Reading Data"
   ]
  },
  {
   "cell_type": "code",
   "execution_count": 3,
   "id": "4ad6995f",
   "metadata": {
    "scrolled": false
   },
   "outputs": [
    {
     "data": {
      "text/html": [
       "<div>\n",
       "<style scoped>\n",
       "    .dataframe tbody tr th:only-of-type {\n",
       "        vertical-align: middle;\n",
       "    }\n",
       "\n",
       "    .dataframe tbody tr th {\n",
       "        vertical-align: top;\n",
       "    }\n",
       "\n",
       "    .dataframe thead th {\n",
       "        text-align: right;\n",
       "    }\n",
       "</style>\n",
       "<table border=\"1\" class=\"dataframe\">\n",
       "  <thead>\n",
       "    <tr style=\"text-align: right;\">\n",
       "      <th></th>\n",
       "      <th>name</th>\n",
       "      <th>marks</th>\n",
       "      <th>city</th>\n",
       "    </tr>\n",
       "  </thead>\n",
       "  <tbody>\n",
       "    <tr>\n",
       "      <th>0</th>\n",
       "      <td>Python</td>\n",
       "      <td>101</td>\n",
       "      <td>Mumbai</td>\n",
       "    </tr>\n",
       "    <tr>\n",
       "      <th>1</th>\n",
       "      <td>Java</td>\n",
       "      <td>23</td>\n",
       "      <td>Goa</td>\n",
       "    </tr>\n",
       "    <tr>\n",
       "      <th>2</th>\n",
       "      <td>C</td>\n",
       "      <td>35</td>\n",
       "      <td>UP</td>\n",
       "    </tr>\n",
       "    <tr>\n",
       "      <th>3</th>\n",
       "      <td>C++</td>\n",
       "      <td>76</td>\n",
       "      <td>JK</td>\n",
       "    </tr>\n",
       "  </tbody>\n",
       "</table>\n",
       "</div>"
      ],
      "text/plain": [
       "     name  marks    city\n",
       "0  Python    101  Mumbai\n",
       "1    Java     23     Goa\n",
       "2       C     35      UP\n",
       "3     C++     76      JK"
      ]
     },
     "execution_count": 3,
     "metadata": {},
     "output_type": "execute_result"
    }
   ],
   "source": [
    "data = pd.DataFrame(dict1)\n",
    "data"
   ]
  },
  {
   "cell_type": "markdown",
   "id": "a97a41d9",
   "metadata": {},
   "source": [
    "# Export as CSV file"
   ]
  },
  {
   "cell_type": "code",
   "execution_count": 4,
   "id": "f0391108",
   "metadata": {},
   "outputs": [],
   "source": [
    "data.to_csv('dataSet.csv')"
   ]
  },
  {
   "cell_type": "markdown",
   "id": "5daaff7f",
   "metadata": {},
   "source": [
    "# To Remove Index "
   ]
  },
  {
   "cell_type": "code",
   "execution_count": 5,
   "id": "7a69f4cd",
   "metadata": {},
   "outputs": [],
   "source": [
    "data.to_csv('dataSet.csv', index=False)"
   ]
  },
  {
   "cell_type": "markdown",
   "id": "269c0544",
   "metadata": {},
   "source": [
    "# To see starting of data"
   ]
  },
  {
   "cell_type": "code",
   "execution_count": 6,
   "id": "6351621b",
   "metadata": {
    "scrolled": false
   },
   "outputs": [
    {
     "data": {
      "text/html": [
       "<div>\n",
       "<style scoped>\n",
       "    .dataframe tbody tr th:only-of-type {\n",
       "        vertical-align: middle;\n",
       "    }\n",
       "\n",
       "    .dataframe tbody tr th {\n",
       "        vertical-align: top;\n",
       "    }\n",
       "\n",
       "    .dataframe thead th {\n",
       "        text-align: right;\n",
       "    }\n",
       "</style>\n",
       "<table border=\"1\" class=\"dataframe\">\n",
       "  <thead>\n",
       "    <tr style=\"text-align: right;\">\n",
       "      <th></th>\n",
       "      <th>name</th>\n",
       "      <th>marks</th>\n",
       "      <th>city</th>\n",
       "    </tr>\n",
       "  </thead>\n",
       "  <tbody>\n",
       "    <tr>\n",
       "      <th>0</th>\n",
       "      <td>Python</td>\n",
       "      <td>101</td>\n",
       "      <td>Mumbai</td>\n",
       "    </tr>\n",
       "    <tr>\n",
       "      <th>1</th>\n",
       "      <td>Java</td>\n",
       "      <td>23</td>\n",
       "      <td>Goa</td>\n",
       "    </tr>\n",
       "  </tbody>\n",
       "</table>\n",
       "</div>"
      ],
      "text/plain": [
       "     name  marks    city\n",
       "0  Python    101  Mumbai\n",
       "1    Java     23     Goa"
      ]
     },
     "execution_count": 6,
     "metadata": {},
     "output_type": "execute_result"
    }
   ],
   "source": [
    "data.head(2)"
   ]
  },
  {
   "cell_type": "markdown",
   "id": "a09807ba",
   "metadata": {},
   "source": [
    "# To see ending of data"
   ]
  },
  {
   "cell_type": "code",
   "execution_count": 7,
   "id": "f2b5e1b3",
   "metadata": {
    "scrolled": false
   },
   "outputs": [
    {
     "data": {
      "text/html": [
       "<div>\n",
       "<style scoped>\n",
       "    .dataframe tbody tr th:only-of-type {\n",
       "        vertical-align: middle;\n",
       "    }\n",
       "\n",
       "    .dataframe tbody tr th {\n",
       "        vertical-align: top;\n",
       "    }\n",
       "\n",
       "    .dataframe thead th {\n",
       "        text-align: right;\n",
       "    }\n",
       "</style>\n",
       "<table border=\"1\" class=\"dataframe\">\n",
       "  <thead>\n",
       "    <tr style=\"text-align: right;\">\n",
       "      <th></th>\n",
       "      <th>name</th>\n",
       "      <th>marks</th>\n",
       "      <th>city</th>\n",
       "    </tr>\n",
       "  </thead>\n",
       "  <tbody>\n",
       "    <tr>\n",
       "      <th>3</th>\n",
       "      <td>C++</td>\n",
       "      <td>76</td>\n",
       "      <td>JK</td>\n",
       "    </tr>\n",
       "  </tbody>\n",
       "</table>\n",
       "</div>"
      ],
      "text/plain": [
       "  name  marks city\n",
       "3  C++     76   JK"
      ]
     },
     "execution_count": 7,
     "metadata": {},
     "output_type": "execute_result"
    }
   ],
   "source": [
    "data.tail(1)"
   ]
  },
  {
   "cell_type": "markdown",
   "id": "9e52f71d",
   "metadata": {},
   "source": [
    "# Get Normal Calculation"
   ]
  },
  {
   "cell_type": "code",
   "execution_count": 8,
   "id": "c0e75e72",
   "metadata": {
    "scrolled": false
   },
   "outputs": [
    {
     "data": {
      "text/html": [
       "<div>\n",
       "<style scoped>\n",
       "    .dataframe tbody tr th:only-of-type {\n",
       "        vertical-align: middle;\n",
       "    }\n",
       "\n",
       "    .dataframe tbody tr th {\n",
       "        vertical-align: top;\n",
       "    }\n",
       "\n",
       "    .dataframe thead th {\n",
       "        text-align: right;\n",
       "    }\n",
       "</style>\n",
       "<table border=\"1\" class=\"dataframe\">\n",
       "  <thead>\n",
       "    <tr style=\"text-align: right;\">\n",
       "      <th></th>\n",
       "      <th>marks</th>\n",
       "    </tr>\n",
       "  </thead>\n",
       "  <tbody>\n",
       "    <tr>\n",
       "      <th>count</th>\n",
       "      <td>4.000000</td>\n",
       "    </tr>\n",
       "    <tr>\n",
       "      <th>mean</th>\n",
       "      <td>58.750000</td>\n",
       "    </tr>\n",
       "    <tr>\n",
       "      <th>std</th>\n",
       "      <td>36.169739</td>\n",
       "    </tr>\n",
       "    <tr>\n",
       "      <th>min</th>\n",
       "      <td>23.000000</td>\n",
       "    </tr>\n",
       "    <tr>\n",
       "      <th>25%</th>\n",
       "      <td>32.000000</td>\n",
       "    </tr>\n",
       "    <tr>\n",
       "      <th>50%</th>\n",
       "      <td>55.500000</td>\n",
       "    </tr>\n",
       "    <tr>\n",
       "      <th>75%</th>\n",
       "      <td>82.250000</td>\n",
       "    </tr>\n",
       "    <tr>\n",
       "      <th>max</th>\n",
       "      <td>101.000000</td>\n",
       "    </tr>\n",
       "  </tbody>\n",
       "</table>\n",
       "</div>"
      ],
      "text/plain": [
       "            marks\n",
       "count    4.000000\n",
       "mean    58.750000\n",
       "std     36.169739\n",
       "min     23.000000\n",
       "25%     32.000000\n",
       "50%     55.500000\n",
       "75%     82.250000\n",
       "max    101.000000"
      ]
     },
     "execution_count": 8,
     "metadata": {},
     "output_type": "execute_result"
    }
   ],
   "source": [
    "data.describe()"
   ]
  },
  {
   "cell_type": "markdown",
   "id": "8bfdbb66",
   "metadata": {},
   "source": [
    "# Change Values"
   ]
  },
  {
   "cell_type": "code",
   "execution_count": 9,
   "id": "13eada0b",
   "metadata": {
    "scrolled": false
   },
   "outputs": [
    {
     "name": "stderr",
     "output_type": "stream",
     "text": [
      "C:\\Users\\Nitesh\\AppData\\Local\\Temp/ipykernel_4528/3888981314.py:1: SettingWithCopyWarning: \n",
      "A value is trying to be set on a copy of a slice from a DataFrame\n",
      "\n",
      "See the caveats in the documentation: https://pandas.pydata.org/pandas-docs/stable/user_guide/indexing.html#returning-a-view-versus-a-copy\n",
      "  data['marks'][1] = 50\n"
     ]
    }
   ],
   "source": [
    "data['marks'][1] = 50 "
   ]
  },
  {
   "cell_type": "code",
   "execution_count": 10,
   "id": "cb49a2e8",
   "metadata": {
    "scrolled": false
   },
   "outputs": [
    {
     "data": {
      "text/html": [
       "<div>\n",
       "<style scoped>\n",
       "    .dataframe tbody tr th:only-of-type {\n",
       "        vertical-align: middle;\n",
       "    }\n",
       "\n",
       "    .dataframe tbody tr th {\n",
       "        vertical-align: top;\n",
       "    }\n",
       "\n",
       "    .dataframe thead th {\n",
       "        text-align: right;\n",
       "    }\n",
       "</style>\n",
       "<table border=\"1\" class=\"dataframe\">\n",
       "  <thead>\n",
       "    <tr style=\"text-align: right;\">\n",
       "      <th></th>\n",
       "      <th>name</th>\n",
       "      <th>marks</th>\n",
       "      <th>city</th>\n",
       "    </tr>\n",
       "  </thead>\n",
       "  <tbody>\n",
       "    <tr>\n",
       "      <th>0</th>\n",
       "      <td>Python</td>\n",
       "      <td>101</td>\n",
       "      <td>Mumbai</td>\n",
       "    </tr>\n",
       "    <tr>\n",
       "      <th>1</th>\n",
       "      <td>Java</td>\n",
       "      <td>50</td>\n",
       "      <td>Goa</td>\n",
       "    </tr>\n",
       "    <tr>\n",
       "      <th>2</th>\n",
       "      <td>C</td>\n",
       "      <td>35</td>\n",
       "      <td>UP</td>\n",
       "    </tr>\n",
       "    <tr>\n",
       "      <th>3</th>\n",
       "      <td>C++</td>\n",
       "      <td>76</td>\n",
       "      <td>JK</td>\n",
       "    </tr>\n",
       "  </tbody>\n",
       "</table>\n",
       "</div>"
      ],
      "text/plain": [
       "     name  marks    city\n",
       "0  Python    101  Mumbai\n",
       "1    Java     50     Goa\n",
       "2       C     35      UP\n",
       "3     C++     76      JK"
      ]
     },
     "execution_count": 10,
     "metadata": {},
     "output_type": "execute_result"
    }
   ],
   "source": [
    "data"
   ]
  },
  {
   "cell_type": "markdown",
   "id": "aa3dd582",
   "metadata": {},
   "source": [
    "# Series Data Creation"
   ]
  },
  {
   "cell_type": "code",
   "execution_count": 11,
   "id": "6c6afde1",
   "metadata": {},
   "outputs": [],
   "source": [
    "newData = pd.Series(np.random.rand(100))"
   ]
  },
  {
   "cell_type": "code",
   "execution_count": 12,
   "id": "bd8783d2",
   "metadata": {
    "scrolled": false
   },
   "outputs": [
    {
     "data": {
      "text/plain": [
       "0     0.678113\n",
       "1     0.152121\n",
       "2     0.182741\n",
       "3     0.480218\n",
       "4     0.534297\n",
       "        ...   \n",
       "95    0.830840\n",
       "96    0.268012\n",
       "97    0.843212\n",
       "98    0.138639\n",
       "99    0.149670\n",
       "Length: 100, dtype: float64"
      ]
     },
     "execution_count": 12,
     "metadata": {},
     "output_type": "execute_result"
    }
   ],
   "source": [
    "newData"
   ]
  },
  {
   "cell_type": "code",
   "execution_count": 13,
   "id": "70eed8b1",
   "metadata": {
    "scrolled": false
   },
   "outputs": [
    {
     "data": {
      "text/plain": [
       "0    0.678113\n",
       "1    0.152121\n",
       "2    0.182741\n",
       "3    0.480218\n",
       "4    0.534297\n",
       "dtype: float64"
      ]
     },
     "execution_count": 13,
     "metadata": {},
     "output_type": "execute_result"
    }
   ],
   "source": [
    "newData.head(5)"
   ]
  },
  {
   "cell_type": "code",
   "execution_count": 14,
   "id": "ee321acf",
   "metadata": {
    "scrolled": false
   },
   "outputs": [
    {
     "data": {
      "text/plain": [
       "95    0.830840\n",
       "96    0.268012\n",
       "97    0.843212\n",
       "98    0.138639\n",
       "99    0.149670\n",
       "dtype: float64"
      ]
     },
     "execution_count": 14,
     "metadata": {},
     "output_type": "execute_result"
    }
   ],
   "source": [
    "newData.tail(5)"
   ]
  },
  {
   "cell_type": "code",
   "execution_count": 15,
   "id": "120ce922",
   "metadata": {
    "scrolled": false
   },
   "outputs": [
    {
     "data": {
      "text/plain": [
       "count    100.000000\n",
       "mean       0.443122\n",
       "std        0.274403\n",
       "min        0.011336\n",
       "25%        0.204603\n",
       "50%        0.401040\n",
       "75%        0.678702\n",
       "max        0.991993\n",
       "dtype: float64"
      ]
     },
     "execution_count": 15,
     "metadata": {},
     "output_type": "execute_result"
    }
   ],
   "source": [
    "newData.describe()"
   ]
  },
  {
   "cell_type": "code",
   "execution_count": 16,
   "id": "0cce90e0",
   "metadata": {
    "scrolled": false
   },
   "outputs": [
    {
     "data": {
      "text/plain": [
       "pandas.core.series.Series"
      ]
     },
     "execution_count": 16,
     "metadata": {},
     "output_type": "execute_result"
    }
   ],
   "source": [
    "type(newData)"
   ]
  },
  {
   "cell_type": "markdown",
   "id": "b4e8e5b6",
   "metadata": {},
   "source": [
    "# DataFrame Creation"
   ]
  },
  {
   "cell_type": "code",
   "execution_count": 17,
   "id": "76570e75",
   "metadata": {},
   "outputs": [],
   "source": [
    "newDFdata = pd.DataFrame(np.random.rand(500, 5))"
   ]
  },
  {
   "cell_type": "code",
   "execution_count": 18,
   "id": "56ec1424",
   "metadata": {
    "scrolled": false
   },
   "outputs": [
    {
     "data": {
      "text/html": [
       "<div>\n",
       "<style scoped>\n",
       "    .dataframe tbody tr th:only-of-type {\n",
       "        vertical-align: middle;\n",
       "    }\n",
       "\n",
       "    .dataframe tbody tr th {\n",
       "        vertical-align: top;\n",
       "    }\n",
       "\n",
       "    .dataframe thead th {\n",
       "        text-align: right;\n",
       "    }\n",
       "</style>\n",
       "<table border=\"1\" class=\"dataframe\">\n",
       "  <thead>\n",
       "    <tr style=\"text-align: right;\">\n",
       "      <th></th>\n",
       "      <th>0</th>\n",
       "      <th>1</th>\n",
       "      <th>2</th>\n",
       "      <th>3</th>\n",
       "      <th>4</th>\n",
       "    </tr>\n",
       "  </thead>\n",
       "  <tbody>\n",
       "    <tr>\n",
       "      <th>0</th>\n",
       "      <td>0.991478</td>\n",
       "      <td>0.028073</td>\n",
       "      <td>0.904846</td>\n",
       "      <td>0.774445</td>\n",
       "      <td>0.776498</td>\n",
       "    </tr>\n",
       "    <tr>\n",
       "      <th>1</th>\n",
       "      <td>0.569848</td>\n",
       "      <td>0.541742</td>\n",
       "      <td>0.420376</td>\n",
       "      <td>0.163083</td>\n",
       "      <td>0.335100</td>\n",
       "    </tr>\n",
       "    <tr>\n",
       "      <th>2</th>\n",
       "      <td>0.211677</td>\n",
       "      <td>0.886442</td>\n",
       "      <td>0.469790</td>\n",
       "      <td>0.483368</td>\n",
       "      <td>0.357522</td>\n",
       "    </tr>\n",
       "    <tr>\n",
       "      <th>3</th>\n",
       "      <td>0.794003</td>\n",
       "      <td>0.900939</td>\n",
       "      <td>0.728542</td>\n",
       "      <td>0.614606</td>\n",
       "      <td>0.455599</td>\n",
       "    </tr>\n",
       "    <tr>\n",
       "      <th>4</th>\n",
       "      <td>0.941557</td>\n",
       "      <td>0.686225</td>\n",
       "      <td>0.681843</td>\n",
       "      <td>0.128793</td>\n",
       "      <td>0.532262</td>\n",
       "    </tr>\n",
       "    <tr>\n",
       "      <th>...</th>\n",
       "      <td>...</td>\n",
       "      <td>...</td>\n",
       "      <td>...</td>\n",
       "      <td>...</td>\n",
       "      <td>...</td>\n",
       "    </tr>\n",
       "    <tr>\n",
       "      <th>495</th>\n",
       "      <td>0.411973</td>\n",
       "      <td>0.931667</td>\n",
       "      <td>0.843098</td>\n",
       "      <td>0.426290</td>\n",
       "      <td>0.484073</td>\n",
       "    </tr>\n",
       "    <tr>\n",
       "      <th>496</th>\n",
       "      <td>0.307499</td>\n",
       "      <td>0.902851</td>\n",
       "      <td>0.672851</td>\n",
       "      <td>0.898204</td>\n",
       "      <td>0.241092</td>\n",
       "    </tr>\n",
       "    <tr>\n",
       "      <th>497</th>\n",
       "      <td>0.390665</td>\n",
       "      <td>0.888308</td>\n",
       "      <td>0.384030</td>\n",
       "      <td>0.638670</td>\n",
       "      <td>0.371008</td>\n",
       "    </tr>\n",
       "    <tr>\n",
       "      <th>498</th>\n",
       "      <td>0.573879</td>\n",
       "      <td>0.877441</td>\n",
       "      <td>0.041601</td>\n",
       "      <td>0.953375</td>\n",
       "      <td>0.679555</td>\n",
       "    </tr>\n",
       "    <tr>\n",
       "      <th>499</th>\n",
       "      <td>0.597567</td>\n",
       "      <td>0.052547</td>\n",
       "      <td>0.405692</td>\n",
       "      <td>0.016666</td>\n",
       "      <td>0.584776</td>\n",
       "    </tr>\n",
       "  </tbody>\n",
       "</table>\n",
       "<p>500 rows × 5 columns</p>\n",
       "</div>"
      ],
      "text/plain": [
       "            0         1         2         3         4\n",
       "0    0.991478  0.028073  0.904846  0.774445  0.776498\n",
       "1    0.569848  0.541742  0.420376  0.163083  0.335100\n",
       "2    0.211677  0.886442  0.469790  0.483368  0.357522\n",
       "3    0.794003  0.900939  0.728542  0.614606  0.455599\n",
       "4    0.941557  0.686225  0.681843  0.128793  0.532262\n",
       "..        ...       ...       ...       ...       ...\n",
       "495  0.411973  0.931667  0.843098  0.426290  0.484073\n",
       "496  0.307499  0.902851  0.672851  0.898204  0.241092\n",
       "497  0.390665  0.888308  0.384030  0.638670  0.371008\n",
       "498  0.573879  0.877441  0.041601  0.953375  0.679555\n",
       "499  0.597567  0.052547  0.405692  0.016666  0.584776\n",
       "\n",
       "[500 rows x 5 columns]"
      ]
     },
     "execution_count": 18,
     "metadata": {},
     "output_type": "execute_result"
    }
   ],
   "source": [
    "newDFdata"
   ]
  },
  {
   "cell_type": "code",
   "execution_count": 19,
   "id": "7cf8dd7e",
   "metadata": {
    "scrolled": false
   },
   "outputs": [
    {
     "data": {
      "text/html": [
       "<div>\n",
       "<style scoped>\n",
       "    .dataframe tbody tr th:only-of-type {\n",
       "        vertical-align: middle;\n",
       "    }\n",
       "\n",
       "    .dataframe tbody tr th {\n",
       "        vertical-align: top;\n",
       "    }\n",
       "\n",
       "    .dataframe thead th {\n",
       "        text-align: right;\n",
       "    }\n",
       "</style>\n",
       "<table border=\"1\" class=\"dataframe\">\n",
       "  <thead>\n",
       "    <tr style=\"text-align: right;\">\n",
       "      <th></th>\n",
       "      <th>0</th>\n",
       "      <th>1</th>\n",
       "      <th>2</th>\n",
       "      <th>3</th>\n",
       "      <th>4</th>\n",
       "    </tr>\n",
       "  </thead>\n",
       "  <tbody>\n",
       "    <tr>\n",
       "      <th>0</th>\n",
       "      <td>0.991478</td>\n",
       "      <td>0.028073</td>\n",
       "      <td>0.904846</td>\n",
       "      <td>0.774445</td>\n",
       "      <td>0.776498</td>\n",
       "    </tr>\n",
       "    <tr>\n",
       "      <th>1</th>\n",
       "      <td>0.569848</td>\n",
       "      <td>0.541742</td>\n",
       "      <td>0.420376</td>\n",
       "      <td>0.163083</td>\n",
       "      <td>0.335100</td>\n",
       "    </tr>\n",
       "    <tr>\n",
       "      <th>2</th>\n",
       "      <td>0.211677</td>\n",
       "      <td>0.886442</td>\n",
       "      <td>0.469790</td>\n",
       "      <td>0.483368</td>\n",
       "      <td>0.357522</td>\n",
       "    </tr>\n",
       "    <tr>\n",
       "      <th>3</th>\n",
       "      <td>0.794003</td>\n",
       "      <td>0.900939</td>\n",
       "      <td>0.728542</td>\n",
       "      <td>0.614606</td>\n",
       "      <td>0.455599</td>\n",
       "    </tr>\n",
       "    <tr>\n",
       "      <th>4</th>\n",
       "      <td>0.941557</td>\n",
       "      <td>0.686225</td>\n",
       "      <td>0.681843</td>\n",
       "      <td>0.128793</td>\n",
       "      <td>0.532262</td>\n",
       "    </tr>\n",
       "  </tbody>\n",
       "</table>\n",
       "</div>"
      ],
      "text/plain": [
       "          0         1         2         3         4\n",
       "0  0.991478  0.028073  0.904846  0.774445  0.776498\n",
       "1  0.569848  0.541742  0.420376  0.163083  0.335100\n",
       "2  0.211677  0.886442  0.469790  0.483368  0.357522\n",
       "3  0.794003  0.900939  0.728542  0.614606  0.455599\n",
       "4  0.941557  0.686225  0.681843  0.128793  0.532262"
      ]
     },
     "execution_count": 19,
     "metadata": {},
     "output_type": "execute_result"
    }
   ],
   "source": [
    "newDFdata.head(5)"
   ]
  },
  {
   "cell_type": "code",
   "execution_count": 20,
   "id": "d1b89486",
   "metadata": {
    "scrolled": false
   },
   "outputs": [
    {
     "data": {
      "text/html": [
       "<div>\n",
       "<style scoped>\n",
       "    .dataframe tbody tr th:only-of-type {\n",
       "        vertical-align: middle;\n",
       "    }\n",
       "\n",
       "    .dataframe tbody tr th {\n",
       "        vertical-align: top;\n",
       "    }\n",
       "\n",
       "    .dataframe thead th {\n",
       "        text-align: right;\n",
       "    }\n",
       "</style>\n",
       "<table border=\"1\" class=\"dataframe\">\n",
       "  <thead>\n",
       "    <tr style=\"text-align: right;\">\n",
       "      <th></th>\n",
       "      <th>0</th>\n",
       "      <th>1</th>\n",
       "      <th>2</th>\n",
       "      <th>3</th>\n",
       "      <th>4</th>\n",
       "    </tr>\n",
       "  </thead>\n",
       "  <tbody>\n",
       "    <tr>\n",
       "      <th>495</th>\n",
       "      <td>0.411973</td>\n",
       "      <td>0.931667</td>\n",
       "      <td>0.843098</td>\n",
       "      <td>0.426290</td>\n",
       "      <td>0.484073</td>\n",
       "    </tr>\n",
       "    <tr>\n",
       "      <th>496</th>\n",
       "      <td>0.307499</td>\n",
       "      <td>0.902851</td>\n",
       "      <td>0.672851</td>\n",
       "      <td>0.898204</td>\n",
       "      <td>0.241092</td>\n",
       "    </tr>\n",
       "    <tr>\n",
       "      <th>497</th>\n",
       "      <td>0.390665</td>\n",
       "      <td>0.888308</td>\n",
       "      <td>0.384030</td>\n",
       "      <td>0.638670</td>\n",
       "      <td>0.371008</td>\n",
       "    </tr>\n",
       "    <tr>\n",
       "      <th>498</th>\n",
       "      <td>0.573879</td>\n",
       "      <td>0.877441</td>\n",
       "      <td>0.041601</td>\n",
       "      <td>0.953375</td>\n",
       "      <td>0.679555</td>\n",
       "    </tr>\n",
       "    <tr>\n",
       "      <th>499</th>\n",
       "      <td>0.597567</td>\n",
       "      <td>0.052547</td>\n",
       "      <td>0.405692</td>\n",
       "      <td>0.016666</td>\n",
       "      <td>0.584776</td>\n",
       "    </tr>\n",
       "  </tbody>\n",
       "</table>\n",
       "</div>"
      ],
      "text/plain": [
       "            0         1         2         3         4\n",
       "495  0.411973  0.931667  0.843098  0.426290  0.484073\n",
       "496  0.307499  0.902851  0.672851  0.898204  0.241092\n",
       "497  0.390665  0.888308  0.384030  0.638670  0.371008\n",
       "498  0.573879  0.877441  0.041601  0.953375  0.679555\n",
       "499  0.597567  0.052547  0.405692  0.016666  0.584776"
      ]
     },
     "execution_count": 20,
     "metadata": {},
     "output_type": "execute_result"
    }
   ],
   "source": [
    "newDFdata.tail(5)"
   ]
  },
  {
   "cell_type": "code",
   "execution_count": 21,
   "id": "cf16eba8",
   "metadata": {
    "scrolled": false
   },
   "outputs": [
    {
     "data": {
      "text/html": [
       "<div>\n",
       "<style scoped>\n",
       "    .dataframe tbody tr th:only-of-type {\n",
       "        vertical-align: middle;\n",
       "    }\n",
       "\n",
       "    .dataframe tbody tr th {\n",
       "        vertical-align: top;\n",
       "    }\n",
       "\n",
       "    .dataframe thead th {\n",
       "        text-align: right;\n",
       "    }\n",
       "</style>\n",
       "<table border=\"1\" class=\"dataframe\">\n",
       "  <thead>\n",
       "    <tr style=\"text-align: right;\">\n",
       "      <th></th>\n",
       "      <th>0</th>\n",
       "      <th>1</th>\n",
       "      <th>2</th>\n",
       "      <th>3</th>\n",
       "      <th>4</th>\n",
       "    </tr>\n",
       "  </thead>\n",
       "  <tbody>\n",
       "    <tr>\n",
       "      <th>count</th>\n",
       "      <td>500.000000</td>\n",
       "      <td>500.000000</td>\n",
       "      <td>500.000000</td>\n",
       "      <td>500.000000</td>\n",
       "      <td>500.000000</td>\n",
       "    </tr>\n",
       "    <tr>\n",
       "      <th>mean</th>\n",
       "      <td>0.498349</td>\n",
       "      <td>0.505360</td>\n",
       "      <td>0.511630</td>\n",
       "      <td>0.519402</td>\n",
       "      <td>0.488010</td>\n",
       "    </tr>\n",
       "    <tr>\n",
       "      <th>std</th>\n",
       "      <td>0.280907</td>\n",
       "      <td>0.295527</td>\n",
       "      <td>0.289294</td>\n",
       "      <td>0.293651</td>\n",
       "      <td>0.281617</td>\n",
       "    </tr>\n",
       "    <tr>\n",
       "      <th>min</th>\n",
       "      <td>0.000294</td>\n",
       "      <td>0.000829</td>\n",
       "      <td>0.003517</td>\n",
       "      <td>0.000247</td>\n",
       "      <td>0.000712</td>\n",
       "    </tr>\n",
       "    <tr>\n",
       "      <th>25%</th>\n",
       "      <td>0.252120</td>\n",
       "      <td>0.246403</td>\n",
       "      <td>0.281177</td>\n",
       "      <td>0.265886</td>\n",
       "      <td>0.234668</td>\n",
       "    </tr>\n",
       "    <tr>\n",
       "      <th>50%</th>\n",
       "      <td>0.505466</td>\n",
       "      <td>0.515130</td>\n",
       "      <td>0.523981</td>\n",
       "      <td>0.522161</td>\n",
       "      <td>0.501482</td>\n",
       "    </tr>\n",
       "    <tr>\n",
       "      <th>75%</th>\n",
       "      <td>0.726290</td>\n",
       "      <td>0.746193</td>\n",
       "      <td>0.756561</td>\n",
       "      <td>0.774769</td>\n",
       "      <td>0.719094</td>\n",
       "    </tr>\n",
       "    <tr>\n",
       "      <th>max</th>\n",
       "      <td>0.999836</td>\n",
       "      <td>0.999629</td>\n",
       "      <td>0.998537</td>\n",
       "      <td>0.998371</td>\n",
       "      <td>0.999516</td>\n",
       "    </tr>\n",
       "  </tbody>\n",
       "</table>\n",
       "</div>"
      ],
      "text/plain": [
       "                0           1           2           3           4\n",
       "count  500.000000  500.000000  500.000000  500.000000  500.000000\n",
       "mean     0.498349    0.505360    0.511630    0.519402    0.488010\n",
       "std      0.280907    0.295527    0.289294    0.293651    0.281617\n",
       "min      0.000294    0.000829    0.003517    0.000247    0.000712\n",
       "25%      0.252120    0.246403    0.281177    0.265886    0.234668\n",
       "50%      0.505466    0.515130    0.523981    0.522161    0.501482\n",
       "75%      0.726290    0.746193    0.756561    0.774769    0.719094\n",
       "max      0.999836    0.999629    0.998537    0.998371    0.999516"
      ]
     },
     "execution_count": 21,
     "metadata": {},
     "output_type": "execute_result"
    }
   ],
   "source": [
    "newDFdata.describe()"
   ]
  },
  {
   "cell_type": "code",
   "execution_count": 22,
   "id": "e9987e32",
   "metadata": {
    "scrolled": false
   },
   "outputs": [
    {
     "data": {
      "text/plain": [
       "pandas.core.frame.DataFrame"
      ]
     },
     "execution_count": 22,
     "metadata": {},
     "output_type": "execute_result"
    }
   ],
   "source": [
    "type(newDFdata)"
   ]
  },
  {
   "cell_type": "markdown",
   "id": "3b07aeef",
   "metadata": {},
   "source": [
    "# Change Data without getting Warning"
   ]
  },
  {
   "cell_type": "code",
   "execution_count": 25,
   "id": "1931e01a",
   "metadata": {
    "scrolled": false
   },
   "outputs": [
    {
     "data": {
      "text/html": [
       "<div>\n",
       "<style scoped>\n",
       "    .dataframe tbody tr th:only-of-type {\n",
       "        vertical-align: middle;\n",
       "    }\n",
       "\n",
       "    .dataframe tbody tr th {\n",
       "        vertical-align: top;\n",
       "    }\n",
       "\n",
       "    .dataframe thead th {\n",
       "        text-align: right;\n",
       "    }\n",
       "</style>\n",
       "<table border=\"1\" class=\"dataframe\">\n",
       "  <thead>\n",
       "    <tr style=\"text-align: right;\">\n",
       "      <th></th>\n",
       "      <th>0</th>\n",
       "      <th>1</th>\n",
       "      <th>2</th>\n",
       "      <th>3</th>\n",
       "      <th>4</th>\n",
       "    </tr>\n",
       "  </thead>\n",
       "  <tbody>\n",
       "    <tr>\n",
       "      <th>0</th>\n",
       "      <td>0.999999</td>\n",
       "      <td>0.028073</td>\n",
       "      <td>0.904846</td>\n",
       "      <td>0.774445</td>\n",
       "      <td>0.776498</td>\n",
       "    </tr>\n",
       "    <tr>\n",
       "      <th>1</th>\n",
       "      <td>0.569848</td>\n",
       "      <td>0.541742</td>\n",
       "      <td>0.420376</td>\n",
       "      <td>0.163083</td>\n",
       "      <td>0.335100</td>\n",
       "    </tr>\n",
       "    <tr>\n",
       "      <th>2</th>\n",
       "      <td>0.211677</td>\n",
       "      <td>0.886442</td>\n",
       "      <td>0.469790</td>\n",
       "      <td>0.483368</td>\n",
       "      <td>0.357522</td>\n",
       "    </tr>\n",
       "    <tr>\n",
       "      <th>3</th>\n",
       "      <td>0.794003</td>\n",
       "      <td>0.900939</td>\n",
       "      <td>0.728542</td>\n",
       "      <td>0.614606</td>\n",
       "      <td>0.455599</td>\n",
       "    </tr>\n",
       "    <tr>\n",
       "      <th>4</th>\n",
       "      <td>0.941557</td>\n",
       "      <td>0.686225</td>\n",
       "      <td>0.681843</td>\n",
       "      <td>0.128793</td>\n",
       "      <td>0.532262</td>\n",
       "    </tr>\n",
       "    <tr>\n",
       "      <th>...</th>\n",
       "      <td>...</td>\n",
       "      <td>...</td>\n",
       "      <td>...</td>\n",
       "      <td>...</td>\n",
       "      <td>...</td>\n",
       "    </tr>\n",
       "    <tr>\n",
       "      <th>495</th>\n",
       "      <td>0.411973</td>\n",
       "      <td>0.931667</td>\n",
       "      <td>0.843098</td>\n",
       "      <td>0.426290</td>\n",
       "      <td>0.484073</td>\n",
       "    </tr>\n",
       "    <tr>\n",
       "      <th>496</th>\n",
       "      <td>0.307499</td>\n",
       "      <td>0.902851</td>\n",
       "      <td>0.672851</td>\n",
       "      <td>0.898204</td>\n",
       "      <td>0.241092</td>\n",
       "    </tr>\n",
       "    <tr>\n",
       "      <th>497</th>\n",
       "      <td>0.390665</td>\n",
       "      <td>0.888308</td>\n",
       "      <td>0.384030</td>\n",
       "      <td>0.638670</td>\n",
       "      <td>0.371008</td>\n",
       "    </tr>\n",
       "    <tr>\n",
       "      <th>498</th>\n",
       "      <td>0.573879</td>\n",
       "      <td>0.877441</td>\n",
       "      <td>0.041601</td>\n",
       "      <td>0.953375</td>\n",
       "      <td>0.679555</td>\n",
       "    </tr>\n",
       "    <tr>\n",
       "      <th>499</th>\n",
       "      <td>0.597567</td>\n",
       "      <td>0.052547</td>\n",
       "      <td>0.405692</td>\n",
       "      <td>0.016666</td>\n",
       "      <td>0.584776</td>\n",
       "    </tr>\n",
       "  </tbody>\n",
       "</table>\n",
       "<p>500 rows × 5 columns</p>\n",
       "</div>"
      ],
      "text/plain": [
       "            0         1         2         3         4\n",
       "0    0.999999  0.028073  0.904846  0.774445  0.776498\n",
       "1    0.569848  0.541742  0.420376  0.163083  0.335100\n",
       "2    0.211677  0.886442  0.469790  0.483368  0.357522\n",
       "3    0.794003  0.900939  0.728542  0.614606  0.455599\n",
       "4    0.941557  0.686225  0.681843  0.128793  0.532262\n",
       "..        ...       ...       ...       ...       ...\n",
       "495  0.411973  0.931667  0.843098  0.426290  0.484073\n",
       "496  0.307499  0.902851  0.672851  0.898204  0.241092\n",
       "497  0.390665  0.888308  0.384030  0.638670  0.371008\n",
       "498  0.573879  0.877441  0.041601  0.953375  0.679555\n",
       "499  0.597567  0.052547  0.405692  0.016666  0.584776\n",
       "\n",
       "[500 rows x 5 columns]"
      ]
     },
     "execution_count": 25,
     "metadata": {},
     "output_type": "execute_result"
    }
   ],
   "source": [
    "newDFdata.loc[0, 0] = 0.999999\n",
    "newDFdata"
   ]
  },
  {
   "cell_type": "code",
   "execution_count": null,
   "id": "65896dfa",
   "metadata": {},
   "outputs": [],
   "source": []
  }
 ],
 "metadata": {
  "kernelspec": {
   "display_name": "Python 3 (ipykernel)",
   "language": "python",
   "name": "python3"
  },
  "language_info": {
   "codemirror_mode": {
    "name": "ipython",
    "version": 3
   },
   "file_extension": ".py",
   "mimetype": "text/x-python",
   "name": "python",
   "nbconvert_exporter": "python",
   "pygments_lexer": "ipython3",
   "version": "3.9.6"
  }
 },
 "nbformat": 4,
 "nbformat_minor": 5
}
